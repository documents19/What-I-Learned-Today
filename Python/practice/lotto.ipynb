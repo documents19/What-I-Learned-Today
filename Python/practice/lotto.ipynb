{
 "cells": [
  {
   "cell_type": "markdown",
   "id": "8c9ef996",
   "metadata": {},
   "source": [
    "### lotto.ipynb"
   ]
  },
  {
   "cell_type": "code",
   "execution_count": null,
   "id": "28957d4d",
   "metadata": {},
   "outputs": [],
   "source": [
    "# URL, URI >클라이언트 - 요청(request)를 보냄 > 서버 - 응답\n",
    "\n",
    "import random\n",
    "my_numbers = random.sample(range(1, 46), 6)"
   ]
  },
  {
   "cell_type": "code",
   "execution_count": 1,
   "id": "ea9999b5",
   "metadata": {},
   "outputs": [],
   "source": [
    "import requests\n",
    "URL = 'https://www.dhlottery.co.kr/common.do?method=getLottoNumber&drwNo=1181'\n",
    "res = requests.get(URL)"
   ]
  },
  {
   "cell_type": "code",
   "execution_count": 3,
   "id": "6884a865",
   "metadata": {},
   "outputs": [],
   "source": [
    "data = res.json()"
   ]
  },
  {
   "cell_type": "code",
   "execution_count": 5,
   "id": "e4c60812",
   "metadata": {},
   "outputs": [
    {
     "data": {
      "text/plain": [
       "{'totSellamnt': 113802682000,\n",
       " 'returnValue': 'success',\n",
       " 'drwNoDate': '2025-07-19',\n",
       " 'firstWinamnt': 1593643500,\n",
       " 'drwtNo6': 41,\n",
       " 'drwtNo4': 20,\n",
       " 'firstPrzwnerCo': 17,\n",
       " 'drwtNo5': 33,\n",
       " 'bnusNo': 28,\n",
       " 'firstAccumamnt': 27091939500,\n",
       " 'drwNo': 1181,\n",
       " 'drwtNo2': 10,\n",
       " 'drwtNo3': 14,\n",
       " 'drwtNo1': 8}"
      ]
     },
     "execution_count": 5,
     "metadata": {},
     "output_type": "execute_result"
    }
   ],
   "source": [
    "data"
   ]
  },
  {
   "cell_type": "code",
   "execution_count": null,
   "id": "40653b5a",
   "metadata": {},
   "outputs": [
    {
     "name": "stdout",
     "output_type": "stream",
     "text": [
      "[34, 38, 40, 42, 11, 35]\n",
      "[41, 20, 33, 10, 14, 8]\n",
      "28\n",
      "꽝\n"
     ]
    }
   ],
   "source": [
    "# 1. data에서 real_numbers 뽑기\n",
    "\n",
    "real_numbers = []\n",
    "\n",
    "for data_key, n in data.items():\n",
    "    if data_key.startswith('drwtNo'):\n",
    "        real_numbers.append(n)\n",
    "\n",
    "## real_numbers = [data[f'drwtNo{i}'] for i in range(1, 7)]\n",
    "\n",
    "\n",
    "\n",
    "# 2. real_numbers + 보너스 와 my_numbers 비교해서 등수 확인\n",
    "\n",
    "import random\n",
    "my_numbers = random.sample(range(1, 46), 6)\n",
    "\n",
    "real_numbers = []\n",
    "\n",
    "for data_key, n in data.items():\n",
    "    if data_key.startswith('drwtNo'):\n",
    "        real_numbers.append(n)\n",
    "\n",
    "bonus = data['bnusNo']\n",
    "\n",
    "all_numbers = set(real_numbers) & set(my_numbers)\n",
    "match_count = len(all_numbers)\n",
    "\n",
    "print(my_numbers)\n",
    "print(real_numbers)\n",
    "print(bonus)\n",
    "\n",
    "if match_count == 6:\n",
    "    print('1등')\n",
    "elif match_count == 5 and bonus in my_numbers:\n",
    "    print('2등')\n",
    "elif match_count == 5:\n",
    "    print('3등')\n",
    "elif match_count == 4:\n",
    "    print('4등') \n",
    "elif match_count == 3:\n",
    "    print('5등')\n",
    "else:\n",
    "    print('꽝')\n",
    "\n",
    "\n",
    "\n",
    "# 3. 등수를 뽑아주는 함수\n",
    "\n",
    "def my_luck(my_numbers, real_numbers, bonus):\n",
    "    match_count = len(set(real_numbers) & set(my_numbers))\n",
    "    if match_count == 6:\n",
    "        result = print('1등')\n",
    "    elif match_count == 5 and bonus in my_numbers:\n",
    "        result = print('2등')\n",
    "    elif match_count == 5:\n",
    "        result = print('3등')\n",
    "    elif match_count == 4:\n",
    "        result = print('4등') \n",
    "    elif match_count == 3:\n",
    "        result = print('5등')\n",
    "    else:\n",
    "        result = print('꽝')\n",
    "    return result\n",
    "\n"
   ]
  },
  {
   "cell_type": "code",
   "execution_count": null,
   "id": "9a171178",
   "metadata": {},
   "outputs": [],
   "source": []
  }
 ],
 "metadata": {
  "kernelspec": {
   "display_name": "Python 3",
   "language": "python",
   "name": "python3"
  },
  "language_info": {
   "codemirror_mode": {
    "name": "ipython",
    "version": 3
   },
   "file_extension": ".py",
   "mimetype": "text/x-python",
   "name": "python",
   "nbconvert_exporter": "python",
   "pygments_lexer": "ipython3",
   "version": "3.13.2"
  }
 },
 "nbformat": 4,
 "nbformat_minor": 5
}
