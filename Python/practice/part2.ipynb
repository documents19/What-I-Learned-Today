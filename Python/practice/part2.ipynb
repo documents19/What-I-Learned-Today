{
 "cells": [
  {
   "cell_type": "markdown",
   "id": "61fa5f2f",
   "metadata": {},
   "source": [
    "### 11번. 1부터 100까지 숫자 중 5의 배수만 리스트에 저장하여 출력하세요.\n",
    "\n",
    "리스트 내포(List Comprehension)를 사용해도 좋습니다.\n",
    "\n",
    "📌 출력 예시:\n",
    "```\n",
    "[5, 10, 15, ..., 100]\n",
    "```"
   ]
  },
  {
   "cell_type": "code",
   "execution_count": 66,
   "id": "c3411c0d",
   "metadata": {},
   "outputs": [
    {
     "name": "stdout",
     "output_type": "stream",
     "text": [
      "[5, 10, 15, 20, 25, 30, 35, 40, 45, 50, 55, 60, 65, 70, 75, 80, 85, 90, 95, 100]\n",
      "[5, 10, 15, 20, 25, 30, 35, 40, 45, 50, 55, 60, 65, 70, 75, 80, 85, 90, 95, 100]\n",
      "[5, 10, 15, 20, 25, 30, 35, 40, 45, 50, 55, 60, 65, 70, 75, 80, 85, 90, 95, 100]\n"
     ]
    }
   ],
   "source": [
    "print([num for num in range(5, 101, 5)])\n",
    "\n",
    "mult5s = []\n",
    "for mult5 in range(1, 21):\n",
    "    mult5s.append(mult5 * 5)\n",
    "print(mult5s)  \n",
    "\n",
    "\n",
    "result = []\n",
    "num = 0\n",
    "\n",
    "while True:\n",
    "    num += 5\n",
    "    result.append(num)\n",
    "\n",
    "    if num == 100:\n",
    "        break\n",
    "print(result)"
   ]
  },
  {
   "cell_type": "markdown",
   "id": "91ab613e",
   "metadata": {},
   "source": [
    "### 12번. 짝수만 필터링하여 새로운 리스트 만들기\n",
    "\n",
    "다음 리스트에서 짝수만 골라 새로운 리스트로 만드세요:\n",
    "```python\n",
    "nums = [1,2,3,4,5,6,7,8,9,10]\n",
    "```\n",
    "📌 출력 예시:\n",
    "```\n",
    "[2, 4, 6, 8, 10]\n",
    "```"
   ]
  },
  {
   "cell_type": "code",
   "execution_count": 35,
   "id": "97dbac20",
   "metadata": {},
   "outputs": [
    {
     "name": "stdout",
     "output_type": "stream",
     "text": [
      "[2, 4, 6, 8, 10]\n"
     ]
    }
   ],
   "source": [
    "nums = [1,2,3,4,5,6,7,8,9,10]\n",
    "\n",
    "even_nums = [num for num in nums if int(num) % 2 == 0]\n",
    "print(even_nums)\n",
    "\n"
   ]
  },
  {
   "cell_type": "code",
   "execution_count": 1,
   "id": "c466b4d0",
   "metadata": {},
   "outputs": [
    {
     "name": "stdout",
     "output_type": "stream",
     "text": [
      "[2, 4, 6, 8, 10]\n"
     ]
    }
   ],
   "source": [
    "nums = [1,2,3,4,5,6,7,8,9,10]\n",
    "\n",
    "even_nums = [num for num in nums if int(num) % 2 == 0]\n",
    "print(even_nums)"
   ]
  },
  {
   "cell_type": "markdown",
   "id": "f4750fde",
   "metadata": {},
   "source": [
    "### 13번. 딕셔너리에서 가장 비싼 과일 찾기\n",
    "\n",
    "다음 딕셔너리에서 가격이 가장 높은 과일과 그 가격을 출력하세요:\n",
    "```python\n",
    "fruits = {'apple': 1000, 'banana': 500, 'orange': 800}\n",
    "```"
   ]
  },
  {
   "cell_type": "code",
   "execution_count": 67,
   "id": "4440c679",
   "metadata": {},
   "outputs": [
    {
     "name": "stdout",
     "output_type": "stream",
     "text": [
      "1000 apple\n"
     ]
    }
   ],
   "source": [
    "fruits = {'apple': 1000, 'banana': 500, 'orange': 800}\n",
    "\n",
    "max_price = 0\n",
    "max_price_fruit = ''\n",
    "\n",
    "for fruit, price in fruits.items():\n",
    "    if max_price < price:\n",
    "        max_price = price\n",
    "        max_price_fruit = fruit\n",
    "print(max_price, max_price_fruit)    \n",
    "    \n",
    "\n"
   ]
  },
  {
   "cell_type": "markdown",
   "id": "f63a58ef",
   "metadata": {},
   "source": [
    "### 14번. 구구단 3단 출력하기\n",
    "\n",
    "for문을 사용하여 구구단 3단을 출력하세요.\n",
    "\n",
    "📌 출력 예시:\n",
    "```\n",
    "3 x 1 = 3\n",
    "3 x 2 = 6\n",
    "...\n",
    "3 x 9 = 27\n",
    "```"
   ]
  },
  {
   "cell_type": "code",
   "execution_count": 6,
   "id": "82376bb6",
   "metadata": {},
   "outputs": [
    {
     "name": "stdout",
     "output_type": "stream",
     "text": [
      "3 x 1 = 3\n",
      "3 x 2 = 6\n",
      "3 x 3 = 9\n",
      "3 x 4 = 12\n",
      "3 x 5 = 15\n",
      "3 x 6 = 18\n",
      "3 x 7 = 21\n",
      "3 x 8 = 24\n",
      "3 x 9 = 27\n",
      "-------------2단-----------------\n",
      "2 x 1 = 2\n",
      "2 x 2 = 4\n",
      "2 x 3 = 6\n",
      "2 x 4 = 8\n",
      "2 x 5 = 10\n",
      "2 x 6 = 12\n",
      "2 x 7 = 14\n",
      "2 x 8 = 16\n",
      "2 x 9 = 18\n",
      "-------------3단-----------------\n",
      "3 x 1 = 3\n",
      "3 x 2 = 6\n",
      "3 x 3 = 9\n",
      "3 x 4 = 12\n",
      "3 x 5 = 15\n",
      "3 x 6 = 18\n",
      "3 x 7 = 21\n",
      "3 x 8 = 24\n",
      "3 x 9 = 27\n",
      "-------------4단-----------------\n",
      "4 x 1 = 4\n",
      "4 x 2 = 8\n",
      "4 x 3 = 12\n",
      "4 x 4 = 16\n",
      "4 x 5 = 20\n",
      "4 x 6 = 24\n",
      "4 x 7 = 28\n",
      "4 x 8 = 32\n",
      "4 x 9 = 36\n",
      "-------------5단-----------------\n",
      "5 x 1 = 5\n",
      "5 x 2 = 10\n",
      "5 x 3 = 15\n",
      "5 x 4 = 20\n",
      "5 x 5 = 25\n",
      "5 x 6 = 30\n",
      "5 x 7 = 35\n",
      "5 x 8 = 40\n",
      "5 x 9 = 45\n",
      "-------------6단-----------------\n",
      "6 x 1 = 6\n",
      "6 x 2 = 12\n",
      "6 x 3 = 18\n",
      "6 x 4 = 24\n",
      "6 x 5 = 30\n",
      "6 x 6 = 36\n",
      "6 x 7 = 42\n",
      "6 x 8 = 48\n",
      "6 x 9 = 54\n",
      "-------------7단-----------------\n",
      "7 x 1 = 7\n",
      "7 x 2 = 14\n",
      "7 x 3 = 21\n",
      "7 x 4 = 28\n",
      "7 x 5 = 35\n",
      "7 x 6 = 42\n",
      "7 x 7 = 49\n",
      "7 x 8 = 56\n",
      "7 x 9 = 63\n",
      "-------------8단-----------------\n",
      "8 x 1 = 8\n",
      "8 x 2 = 16\n",
      "8 x 3 = 24\n",
      "8 x 4 = 32\n",
      "8 x 5 = 40\n",
      "8 x 6 = 48\n",
      "8 x 7 = 56\n",
      "8 x 8 = 64\n",
      "8 x 9 = 72\n",
      "-------------9단-----------------\n",
      "9 x 1 = 9\n",
      "9 x 2 = 18\n",
      "9 x 3 = 27\n",
      "9 x 4 = 36\n",
      "9 x 5 = 45\n",
      "9 x 6 = 54\n",
      "9 x 7 = 63\n",
      "9 x 8 = 72\n",
      "9 x 9 = 81\n"
     ]
    }
   ],
   "source": [
    "# 3단\n",
    "\n",
    "for num in range(1,10):\n",
    "    print(f'3 x {num} = {num * 3}')\n",
    "\n",
    "# 구구단 (for 안에 for을 또 사용하는 것이 가능)\n",
    "\n",
    "for dan in range(2, 10):\n",
    "    print(f'-------------{dan}단-----------------')\n",
    "    for num in range(1, 10):\n",
    "        print(f'{dan} x {num} = {num * dan}')"
   ]
  },
  {
   "cell_type": "markdown",
   "id": "1a498a46",
   "metadata": {},
   "source": [
    "### 15번. 문자열에서 각 문자 개수 세기\n",
    "\n",
    "사용자로부터 문자열을 입력받아, 각 문자가 몇 번 나오는지 딕셔너리 형태로 출력하세요.\n",
    "\n",
    "📌 예시 입력: `hello`\n",
    "📌 예시 출력: `{'h':1, 'e':1, 'l':2, 'o':1}`"
   ]
  },
  {
   "cell_type": "code",
   "execution_count": null,
   "id": "3f9c2e5b",
   "metadata": {},
   "outputs": [
    {
     "name": "stdout",
     "output_type": "stream",
     "text": [
      "{'h': 1, 'e': 1, 'l': 2, 'o': 1}\n"
     ]
    }
   ],
   "source": [
    "text = input(\"문자열을 입력하세요: \")\n",
    "\n",
    "count_dict = {}\n",
    "for char in text:\n",
    "    count_dict[char] = count_dict.get(char, 0) + 1\n",
    "print(count_dict)\n",
    "\n",
    "\n",
    "for char in text:\n",
    "    if char in count_dict:\n",
    "        count_dict[char] += 1\n",
    "    else:\n",
    "        count_dict[char] = 1\n",
    "print(count_dict)"
   ]
  },
  {
   "cell_type": "markdown",
   "id": "6a3f44e9",
   "metadata": {},
   "source": [
    "### 16번. 리스트 정렬과 최대/최소 값 찾기\n",
    "\n",
    "다음 리스트를 오름차순으로 정렬하고, 가장 큰 값과 가장 작은 값을 출력하세요:\n",
    "```python\n",
    "nums = [3, 1, 4, 1, 5, 9, 2, 6]\n",
    "```"
   ]
  },
  {
   "cell_type": "code",
   "execution_count": null,
   "id": "ecaa5fac",
   "metadata": {},
   "outputs": [
    {
     "name": "stdout",
     "output_type": "stream",
     "text": [
      "[1, 1, 2, 3, 4, 5, 6, 9]\n",
      "1\n",
      "9\n"
     ]
    }
   ],
   "source": [
    "nums = [3, 1, 4, 1, 5, 9, 2, 6]\n",
    "\n",
    "# sorted(nums) > 원래의 nums가 변경된 것은 아님\n",
    "# nums.sort() > 실제의 nums를 변경하여 정렬 \n",
    "nums.sort()\n",
    "\n",
    "print(nums)\n",
    "print(nums[0])\n",
    "print(nums[-1])\n",
    "\n"
   ]
  },
  {
   "cell_type": "markdown",
   "id": "21f6f2d0",
   "metadata": {},
   "source": [
    "### 17번. 회문(Palindrome) 검사\n",
    "\n",
    "입력받은 단어가 앞에서 읽든 뒤에서 읽든 같은 단어인지 확인하는 프로그램을 작성하세요.\n",
    "\n",
    "📌 예시: `level` → 회문 / `hello` → 회문 아님"
   ]
  },
  {
   "cell_type": "code",
   "execution_count": 73,
   "id": "5e7b6989",
   "metadata": {},
   "outputs": [
    {
     "name": "stdout",
     "output_type": "stream",
     "text": [
      "level → 회문\n"
     ]
    }
   ],
   "source": [
    "word = input(\"단어를 입력하세요: \")\n",
    "rev_word = word[::-1]\n",
    "\n",
    "if word == rev_word:\n",
    "    print(word, '→ 회문')\n",
    "else:\n",
    "    print(word, '→ 회문 아님')\n"
   ]
  },
  {
   "cell_type": "markdown",
   "id": "4e83b9ca",
   "metadata": {},
   "source": [
    "### 18번. 집합 연산: 합집합, 교집합, 차집합\n",
    "\n",
    "다음 두 집합의 합집합, 교집합, 차집합을 구하세요:\n",
    "```python\n",
    "A = {1, 2, 3, 4, 5}\n",
    "B = {4, 5, 6, 7, 8}\n",
    "```"
   ]
  },
  {
   "cell_type": "code",
   "execution_count": 83,
   "id": "6c1c77ae",
   "metadata": {},
   "outputs": [
    {
     "name": "stdout",
     "output_type": "stream",
     "text": [
      "합집합: {1, 2, 3, 4, 5, 6, 7, 8}\n",
      "교집합: {4, 5}\n",
      "차집합: {1, 2, 3}\n"
     ]
    }
   ],
   "source": [
    "A = {1, 2, 3, 4, 5}\n",
    "B = {4, 5, 6, 7, 8}\n",
    "\n",
    "print(\"합집합:\", A | B)\n",
    "print(\"교집합:\", A & B)\n",
    "print(\"차집합:\", A - B)\n"
   ]
  },
  {
   "cell_type": "markdown",
   "id": "e49db016",
   "metadata": {},
   "source": [
    "### 19번. 1부터 n까지의 합 구하기\n",
    "\n",
    "사용자로부터 정수 n을 입력받아 1부터 n까지의 합을 구하는 프로그램을 작성하세요."
   ]
  },
  {
   "cell_type": "code",
   "execution_count": null,
   "id": "5e772a52",
   "metadata": {},
   "outputs": [
    {
     "name": "stdout",
     "output_type": "stream",
     "text": [
      "55\n"
     ]
    }
   ],
   "source": [
    "n = int(input(\"정수를 입력하세요: \"))\n",
    "\n",
    "total = sum(range(1, n+1))\n",
    "print(total)\n",
    "\n",
    "\n",
    "\n",
    "\n",
    "\n",
    "total = 0\n",
    "while n > 0:\n",
    "    total += n\n",
    "    n -= 1\n",
    "print(total)"
   ]
  },
  {
   "cell_type": "markdown",
   "id": "c8ae9f8e",
   "metadata": {},
   "source": [
    "### 20번. 리스트에서 중복 제거\n",
    "\n",
    "다음 리스트에서 중복된 값을 제거하고 유일한 값만 남긴 리스트를 출력하세요:\n",
    "```python\n",
    "nums = [1, 2, 2, 3, 4, 4, 5]\n",
    "```"
   ]
  },
  {
   "cell_type": "code",
   "execution_count": null,
   "id": "0b9d2135",
   "metadata": {},
   "outputs": [
    {
     "name": "stdout",
     "output_type": "stream",
     "text": [
      "[1, 2, 3, 4, 5]\n"
     ]
    }
   ],
   "source": [
    "nums = [1, 2, 2, 3, 4, 4, 5]\n",
    "\n",
    "set_nums = set(nums)\n",
    "\n",
    "new_nums = list(set_nums)\n",
    "\n",
    "print(new_nums)\n",
    "\n",
    "\n",
    "\n",
    "min_n = nums[0]\n",
    "\n",
    "for num in nums:\n",
    "    if min_n =! num:\n",
    "        continue\n",
    "\n",
    "\n",
    "uniq = []\n",
    "\n",
    "for num in nums:\n",
    "    if num not in uniq:\n",
    "        uniq.append(num)\n",
    "\n",
    "print(uniq)\n",
    "\n"
   ]
  }
 ],
 "metadata": {
  "kernelspec": {
   "display_name": "Python 3",
   "language": "python",
   "name": "python3"
  },
  "language_info": {
   "codemirror_mode": {
    "name": "ipython",
    "version": 3
   },
   "file_extension": ".py",
   "mimetype": "text/x-python",
   "name": "python",
   "nbconvert_exporter": "python",
   "pygments_lexer": "ipython3",
   "version": "3.13.2"
  }
 },
 "nbformat": 4,
 "nbformat_minor": 5
}
