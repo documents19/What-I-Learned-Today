{
 "cells": [
  {
   "cell_type": "markdown",
   "id": "c7a7a0b4",
   "metadata": {},
   "source": [
    "### 21번 문제\n",
    "문자열 \"hello world python programming\"에서 각 단어의 첫 글자를 대문자로 바꾸어 출력하세요."
   ]
  },
  {
   "cell_type": "code",
   "execution_count": null,
   "id": "588efbaa",
   "metadata": {},
   "outputs": [
    {
     "name": "stdout",
     "output_type": "stream",
     "text": [
      "Hello World Python Programming\n"
     ]
    }
   ],
   "source": [
    "text = \"hello world python programming\"\n",
    "capitalized = text.title()\n",
    "print(capitalized)"
   ]
  },
  {
   "cell_type": "markdown",
   "id": "015c665a",
   "metadata": {},
   "source": [
    "### 22번 문제\n",
    "학생들의 성적 딕셔너리를 만들고, 평균 점수를 계산하여 평균 이상인 학생들만 출력하세요."
   ]
  },
  {
   "cell_type": "code",
   "execution_count": 2,
   "id": "3e3ee36e",
   "metadata": {},
   "outputs": [
    {
     "name": "stdout",
     "output_type": "stream",
     "text": [
      "Alice 85\n",
      "Charlie 90\n"
     ]
    }
   ],
   "source": [
    "scores = {'Alice': 85, 'Bob': 72, 'Charlie': 90, 'David': 60}\n",
    "\n",
    "average = sum(scores.values()) / len(scores)\n",
    "for student, score in scores.items():\n",
    "    if score >= average:\n",
    "        print(student, score)\n"
   ]
  },
  {
   "cell_type": "markdown",
   "id": "cf788c80",
   "metadata": {},
   "source": [
    "### 23번 문제\n",
    "주어진 문자열에서 숫자만 추출하여 합계를 구하는 프로그램을 작성하세요."
   ]
  },
  {
   "cell_type": "code",
   "execution_count": 18,
   "id": "7ea517c6",
   "metadata": {},
   "outputs": [
    {
     "name": "stdout",
     "output_type": "stream",
     "text": [
      "10\n"
     ]
    }
   ],
   "source": [
    "text = \"a1b2c3d4\"\n",
    "\n",
    "digits = []\n",
    "for n in text:\n",
    "    if n.isdigit():\n",
    "        digits.append(int(n))\n",
    "\n",
    "print(sum(digits))\n",
    "\n",
    "\n",
    "total = sum(int(n) for n in text if n.isdigit())\n",
    "\n",
    "        "
   ]
  },
  {
   "cell_type": "markdown",
   "id": "8a14b3de",
   "metadata": {},
   "source": [
    "### 24번 문제\n",
    "피보나치 수열의 첫 10개 항을 리스트에 저장하여 출력하세요."
   ]
  },
  {
   "cell_type": "code",
   "execution_count": null,
   "id": "cc8b02fd",
   "metadata": {},
   "outputs": [
    {
     "name": "stdout",
     "output_type": "stream",
     "text": [
      "[0, 1, 1, 2, 3, 5, 8, 13, 21, 34]\n"
     ]
    }
   ],
   "source": [
    "fibonacci = [0, 1]\n",
    "\n",
    "for _ in range(8):\n",
    "    fibonacci.append(fibonacci[-1] + fibonacci[-2])\n",
    "print(fibonacci)\n",
    "\n",
    "\n",
    "while len(fibonacci) < 10:\n",
    "    next_value = fibonacci[-1] + fibonacci[-2]\n",
    "    fibonacci.append(next_value)\n",
    "\n",
    "print(fibonacci)\n"
   ]
  },
  {
   "cell_type": "markdown",
   "id": "cf47b1ae",
   "metadata": {},
   "source": [
    "### 25번 문제\n",
    "영어 문장을 입력받아 단어 개수, 문자 개수(공백 제외), 모음 개수를 세는 프로그램을 작성하세요."
   ]
  },
  {
   "cell_type": "code",
   "execution_count": 9,
   "id": "92747767",
   "metadata": {},
   "outputs": [
    {
     "name": "stdout",
     "output_type": "stream",
     "text": [
      "단어 개수 3\n",
      "문자 개수 7\n",
      "모음 개수 4\n"
     ]
    }
   ],
   "source": [
    "sentence = input(\"문장을 입력하세요: \")\n",
    "\n",
    "print(f'단어 개수', len(sentence.split()))\n",
    "print(f'문자 개수', len(sentence.replace(' ', '')))\n",
    "print(f'모음 개수', sum(1 for _ in sentence.lower() if _ in 'aeiou'))\n"
   ]
  },
  {
   "cell_type": "markdown",
   "id": "65dcf00d",
   "metadata": {},
   "source": [
    "### 26번 문제\n",
    "2차원 리스트 [[1, 2, 3], [4, 5, 6], [7, 8, 9]]의 모든 원소의 합을 구하세요."
   ]
  },
  {
   "cell_type": "code",
   "execution_count": 29,
   "id": "26a8319e",
   "metadata": {},
   "outputs": [
    {
     "name": "stdout",
     "output_type": "stream",
     "text": [
      "45\n"
     ]
    }
   ],
   "source": [
    "matrix = [[1, 2, 3], [4, 5, 6], [7, 8, 9]]\n",
    "\n",
    "total = sum(sum(row) for row in matrix)\n",
    "print(total)\n"
   ]
  },
  {
   "cell_type": "markdown",
   "id": "dea32b37",
   "metadata": {},
   "source": [
    "### 27번 문제\n",
    "문자열 리스트에서 가장 긴 문자열과 가장 짧은 문자열을 찾아 출력하세요."
   ]
  },
  {
   "cell_type": "code",
   "execution_count": null,
   "id": "28d8b0c0",
   "metadata": {},
   "outputs": [
    {
     "name": "stdout",
     "output_type": "stream",
     "text": [
      "apple\n",
      "strawberry kiwi\n"
     ]
    }
   ],
   "source": [
    "words = [\"apple\", \"banana\", \"kiwi\", \"strawberry\"]\n",
    "\n",
    "longest = max(words, key=len)\n",
    "shortest = min(words, key=len)\n",
    "\n",
    "print(longest, shortest)"
   ]
  },
  {
   "cell_type": "markdown",
   "id": "88c6ac5b",
   "metadata": {},
   "source": [
    "### 28번 문제\n",
    "로또 번호 생성기를 만드세요. (1~45 중 중복 없는 6개 숫자)"
   ]
  },
  {
   "cell_type": "code",
   "execution_count": 27,
   "id": "5c9030f3",
   "metadata": {},
   "outputs": [
    {
     "name": "stdout",
     "output_type": "stream",
     "text": [
      "로또 번호: [1, 4, 27, 36, 42, 43]\n"
     ]
    }
   ],
   "source": [
    "import random\n",
    "lotto = random.sample(range(1, 46), 6)\n",
    "print(\"로또 번호:\", sorted(lotto))"
   ]
  },
  {
   "cell_type": "code",
   "execution_count": 10,
   "id": "29d3c3e4",
   "metadata": {},
   "outputs": [
    {
     "name": "stdout",
     "output_type": "stream",
     "text": [
      "[13, 15, 21, 26, 30, 37]\n"
     ]
    }
   ],
   "source": [
    "import random\n",
    "lotto = random.sample(range(1, 46), 6)\n",
    "print(sorted(lotto))"
   ]
  },
  {
   "cell_type": "markdown",
   "id": "4cdf20f0",
   "metadata": {},
   "source": [
    "### 29번 문제\n",
    "문자열을 입력받아 각 문자의 ASCII 값을 딕셔너리로 저장하여 출력하세요."
   ]
  },
  {
   "cell_type": "code",
   "execution_count": 26,
   "id": "4ff89e6f",
   "metadata": {},
   "outputs": [
    {
     "name": "stdout",
     "output_type": "stream",
     "text": [
      "{'m': 109, 'i': 105, 's': 115, 'p': 112}\n"
     ]
    }
   ],
   "source": [
    "text = input(\"문자열을 입력하세요: \")\n",
    "ascii_dict = {char: ord(char) for char in text}\n",
    "print(ascii_dict)\n"
   ]
  },
  {
   "cell_type": "markdown",
   "id": "d458db98",
   "metadata": {},
   "source": [
    "### 30번 문제\n",
    "주어진 문자열에서 가장 많이 나타나는 문자와 그 개수를 찾아 출력하세요."
   ]
  },
  {
   "cell_type": "code",
   "execution_count": null,
   "id": "edbc2d19",
   "metadata": {},
   "outputs": [],
   "source": [
    "text = \"mississippi\"\n",
    "\n",
    "from collections import Counter\n",
    "text = \"mississippi\"\n",
    "counter = Counter(text)\n",
    "most_common = counter.most_common(1)[0]\n",
    "print(\"가장 많이 나타나는 문자:\", most_common[0])\n",
    "print(\"개수:\", most_common[1])"
   ]
  },
  {
   "cell_type": "code",
   "execution_count": 34,
   "id": "69ded978",
   "metadata": {},
   "outputs": [
    {
     "name": "stdout",
     "output_type": "stream",
     "text": [
      "{'m': 1, 'i': 4, 's': 4, 'p': 2}\n",
      "가장 많이 나타난 문자: 'i' (4번)\n"
     ]
    }
   ],
   "source": [
    "text = \"mississippi\"\n",
    "\n",
    "# 각 문자의 빈도수를 저장할 딕셔너리 생성\n",
    "char_count = {}\n",
    "\n",
    "# 문자별 개수 세기\n",
    "for char in text:\n",
    "    if char in char_count:\n",
    "        char_count[char] += 1\n",
    "    else:\n",
    "        char_count[char] = 1\n",
    "\n",
    "# 등장 횟수가 가장 큰 문자 찾기\n",
    "max_char = None\n",
    "max_count = 0\n",
    "\n",
    "for char in char_count:\n",
    "    if char_count[char] > max_count:\n",
    "        max_char = char\n",
    "        max_count = char_count[char]\n",
    "\n",
    "# 결과 출력\n",
    "print(char_count)\n",
    "print(f\"가장 많이 나타난 문자: '{max_char}' ({max_count}번)\")\n",
    "\n"
   ]
  }
 ],
 "metadata": {
  "kernelspec": {
   "display_name": "Python 3",
   "language": "python",
   "name": "python3"
  },
  "language_info": {
   "codemirror_mode": {
    "name": "ipython",
    "version": 3
   },
   "file_extension": ".py",
   "mimetype": "text/x-python",
   "name": "python",
   "nbconvert_exporter": "python",
   "pygments_lexer": "ipython3",
   "version": "3.13.2"
  }
 },
 "nbformat": 4,
 "nbformat_minor": 5
}
