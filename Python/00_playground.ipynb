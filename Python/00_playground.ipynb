{
 "cells": [
  {
   "cell_type": "code",
   "execution_count": null,
   "id": "3aae71a7",
   "metadata": {},
   "outputs": [
    {
     "name": "stdout",
     "output_type": "stream",
     "text": [
      "짝수\n"
     ]
    }
   ],
   "source": [
    "# 사용자로부터 하나의 숫자를 입력 받고 짝수/홀수를 판별하라.\n",
    "a = int(input())\n",
    "\n",
    "if a % 2 == 1:\n",
    "    print('홀수')\n",
    "else:\n",
    "    print('짝수')"
   ]
  },
  {
   "cell_type": "code",
   "execution_count": null,
   "id": "bd9989e5",
   "metadata": {},
   "outputs": [
    {
     "name": "stdout",
     "output_type": "stream",
     "text": [
      "255\n"
     ]
    }
   ],
   "source": [
    "# 사용자로부터 값을 입력받은 후 해당 값에 20을 더한 값을 출력하라. \n",
    "# 단 사용자가 입력한 값과 20을 더한 계산 값이 255를 초과하는 경우 255를 출력해야 한다.\n",
    "\n",
    "user = input('입력값: ')\n",
    "num = 20 + int(user)\n",
    "if num > 255:\n",
    "    print(255)\n",
    "else:\n",
    "    print(num)"
   ]
  },
  {
   "cell_type": "code",
   "execution_count": null,
   "id": "18bb9ad3",
   "metadata": {},
   "outputs": [],
   "source": [
    "# 사용자로부터 하나의 값을 입력받은 후 해당 값에 20을 뺀 값을 출력하라. 단 출력 값의 범위는 0~255이다.\n",
    "# 예를 들어 결괏값이 0보다 작은 값이되는 경우 0을 출력하고 255보다 큰 값이 되는 경우 255를 출력해야 한다.\n",
    "\n",
    "user = input('입력값: ')\n",
    "num = int(user) - 20\n",
    "if num > 255:\n",
    "    print(255)\n",
    "elif num < 0:\n",
    "    print(0)\n",
    "else:\n",
    "    print(num)"
   ]
  },
  {
   "cell_type": "code",
   "execution_count": null,
   "id": "cc861ce1",
   "metadata": {},
   "outputs": [],
   "source": [
    "# 사용자로부터 입력 받은 시간이 정각인지 판별하라.\n",
    "\n",
    "# >> 현재시간:02:00 정각 입니다.\n",
    "# >> 현재시간:03:10 정각이 아닙니다\n",
    "\n",
    "time = input('입력값:')\n",
    "\n",
    "if "
   ]
  },
  {
   "cell_type": "code",
   "execution_count": 8,
   "id": "82c52e1a",
   "metadata": {},
   "outputs": [
    {
     "name": "stdout",
     "output_type": "stream",
     "text": [
      "10\n",
      "20\n",
      "30\n"
     ]
    }
   ],
   "source": [
    "# 다음 코드를 for문으로 작성하라.\n",
    "\n",
    "# 변수 = 10\n",
    "# print(변수)\n",
    "# 변수 = 20\n",
    "# print(변수)\n",
    "# 변수 = 30\n",
    "# print(변수)\n",
    "\n",
    "for 변수 in range(10, 40, 10):\n",
    "    print(변수)"
   ]
  },
  {
   "cell_type": "code",
   "execution_count": 12,
   "id": "ad31fbf1",
   "metadata": {},
   "outputs": [
    {
     "name": "stdout",
     "output_type": "stream",
     "text": [
      "110\n",
      "210\n",
      "310\n"
     ]
    }
   ],
   "source": [
    "list = [100, 200, 300]\n",
    "\n",
    "for num in list:\n",
    "    print(num + 10)"
   ]
  },
  {
   "cell_type": "code",
   "execution_count": 13,
   "id": "877e5dc2",
   "metadata": {},
   "outputs": [
    {
     "name": "stdout",
     "output_type": "stream",
     "text": [
      "오늘의 메뉴: 김밥\n",
      "오늘의 메뉴: 라면\n",
      "오늘의 메뉴: 튀김\n"
     ]
    }
   ],
   "source": [
    "list = [\"김밥\", \"라면\", \"튀김\"]\n",
    "\n",
    "for food in list:\n",
    "    print(f'오늘의 메뉴: {food}')"
   ]
  },
  {
   "cell_type": "code",
   "execution_count": 6,
   "id": "b3b63077",
   "metadata": {},
   "outputs": [
    {
     "name": "stdout",
     "output_type": "stream",
     "text": [
      "[8.8, 8.9, 8.7, 9.2, 9.3, 9.7, 9.9, 9.5]\n"
     ]
    }
   ],
   "source": [
    "scores = [8.8, 8.9, 8.7, 9.2, 9.3, 9.7, 9.9, 9.5, 7.8, 9.4]\n",
    "*a, _, _ = scores\n",
    "print(a)"
   ]
  },
  {
   "cell_type": "code",
   "execution_count": 8,
   "id": "595b8788",
   "metadata": {},
   "outputs": [
    {
     "name": "stdout",
     "output_type": "stream",
     "text": [
      "[8.7, 9.2, 9.3, 9.7, 9.9, 9.5, 7.8, 9.4]\n"
     ]
    }
   ],
   "source": [
    "scores = [8.8, 8.9, 8.7, 9.2, 9.3, 9.7, 9.9, 9.5, 7.8, 9.4]\n",
    "\n",
    "_, _, *valid_scores = scores\n",
    "\n",
    "print(valid_scores)"
   ]
  },
  {
   "cell_type": "code",
   "execution_count": 15,
   "id": "b6a0f79a",
   "metadata": {},
   "outputs": [
    {
     "data": {
      "text/plain": [
       "3"
      ]
     },
     "execution_count": 15,
     "metadata": {},
     "output_type": "execute_result"
    }
   ],
   "source": [
    "text = {1, 2, 2}\n",
    "sum(text)\n",
    "\n"
   ]
  },
  {
   "cell_type": "code",
   "execution_count": 4,
   "id": "1fbac0b4",
   "metadata": {},
   "outputs": [
    {
     "name": "stdout",
     "output_type": "stream",
     "text": [
      "49\n"
     ]
    }
   ],
   "source": [
    "N, M = 5, 2\n",
    "\n",
    "board = [\n",
    "    [1, 3, 3, 6, 7],\n",
    "    [8, 13, 9, 12, 8],\n",
    "    [4, 16, 11, 12, 6],\n",
    "    [2, 4, 1, 23, 2],\n",
    "    [9, 13, 4, 7, 3]\n",
    "]\n",
    "\n",
    "\n",
    "# 5*5 판에서 2*2 부분사각형의 요소 총합의 최댓값\n",
    "\n",
    "# 시작 기준으로  M*M의 총합\n",
    "def sum_range(r, c):\n",
    "    total = 0\n",
    "    for i in range(M):\n",
    "        for j in range(M):\n",
    "            total += board[r+i][c+j]\n",
    "    return total\n",
    "\n",
    "# 파리채의 시작(좌-상) index만 골라줌\n",
    "\n",
    "maximum = 0\n",
    "\n",
    "for row in range(N-M+1):\n",
    "    for col in range(N-M+1):\n",
    "        total = sum_range(row, col)\n",
    "        if maximum < total:\n",
    "            maximum = total\n",
    "print(maximum)\n",
    "    "
   ]
  },
  {
   "cell_type": "code",
   "execution_count": 6,
   "id": "885ad7f0",
   "metadata": {},
   "outputs": [
    {
     "name": "stdout",
     "output_type": "stream",
     "text": [
      "Spring is beginning\n",
      "13\n",
      "310\n"
     ]
    }
   ],
   "source": [
    "string_msg = \"Spring is beginning\"\n",
    "int_val = int(3)\n",
    "string_val = \"3\"\n",
    "\n",
    "print(string_msg)\n",
    "print(int_val + 10)\n",
    "print(string_val + \"10\")"
   ]
  },
  {
   "cell_type": "code",
   "execution_count": 17,
   "id": "c076347f",
   "metadata": {},
   "outputs": [
    {
     "name": "stdout",
     "output_type": "stream",
     "text": [
      "['a', 'b']\n",
      "[9, 1]\n"
     ]
    },
    {
     "data": {
      "text/plain": [
       "(None, None)"
      ]
     },
     "execution_count": 17,
     "metadata": {},
     "output_type": "execute_result"
    }
   ],
   "source": [
    "storage = [\"a\",\"a\",\"a\",\"b\"]\n",
    "num = [2,4,3,1]\n",
    "\n",
    "clean_storage = []\n",
    "clean_num = []\n",
    "    \n",
    "for i in range(len(storage)):\n",
    "    if storage[i] in clean_storage:\n",
    "        pos = clean_storage.index(storage[i])\n",
    "        clean_num[pos] += num[i]\n",
    "    else:\n",
    "        clean_storage.append(storage[i])\n",
    "        clean_num.append(num[i])\n",
    "\n",
    "print(clean_storage), print(clean_num)\n",
    "\n",
    "\n"
   ]
  },
  {
   "cell_type": "code",
   "execution_count": null,
   "id": "9d99d5c1",
   "metadata": {},
   "outputs": [],
   "source": [
    "def get_index(keyword):\n",
    "    if keyword == 'code':\n",
    "        idx = 0\n",
    "    elif keyword == 'date':\n",
    "        idx = 1\n",
    "    elif keyword == 'maximum':\n",
    "        idx = 2\n",
    "    elif keyword == 'remain':\n",
    "        idx = 3\n",
    "    return idx"
   ]
  },
  {
   "cell_type": "code",
   "execution_count": null,
   "id": "743e6668",
   "metadata": {},
   "outputs": [
    {
     "data": {
      "text/plain": [
       "6407"
      ]
     },
     "execution_count": 30,
     "metadata": {},
     "output_type": "execute_result"
    }
   ],
   "source": [
    "640709 // 100 \n"
   ]
  },
  {
   "cell_type": "code",
   "execution_count": null,
   "id": "52805aab",
   "metadata": {},
   "outputs": [
    {
     "name": "stdout",
     "output_type": "stream",
     "text": [
      "80\n"
     ]
    }
   ],
   "source": [
    "number = int(input())\n",
    "\n",
    "answer = 0\n",
    "\n",
    "while number > 0: # for i in range(1):\n",
    "    answer += number % 100 # >> answer = answer + number % 100 \n",
    "    number //= 100 >> # number = number // 100\n",
    "\n",
    "print(answer)\n"
   ]
  }
 ],
 "metadata": {
  "kernelspec": {
   "display_name": "Python 3",
   "language": "python",
   "name": "python3"
  },
  "language_info": {
   "codemirror_mode": {
    "name": "ipython",
    "version": 3
   },
   "file_extension": ".py",
   "mimetype": "text/x-python",
   "name": "python",
   "nbconvert_exporter": "python",
   "pygments_lexer": "ipython3",
   "version": "3.13.2"
  }
 },
 "nbformat": 4,
 "nbformat_minor": 5
}
