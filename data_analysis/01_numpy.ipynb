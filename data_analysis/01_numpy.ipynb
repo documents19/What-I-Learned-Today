{
 "cells": [
  {
   "cell_type": "markdown",
   "id": "b85ce873",
   "metadata": {},
   "source": [
    "# `01_numpy.ipynb`\n",
    "\n",
    "- 데이터 분석: 데이터를 분석하여 의사 결정에 도움을 줌\n",
    "- 데이터 분석 / 통계 / 머신 러닝\n",
    "    - 데이터 분석: **문제를 정의하고 인사이트 도출** (고객 구매 패턴 분석)\n",
    "    - 통계: 데이터를 **요약, 해석하는 수학** (평균, 분산)\n",
    "    - 머신 러닝: 데이터를 학습하여 **예측** (스팸함 분류, 추천)\n",
    "\n",
    "- 데이터 분석: 데이터를 분석하여 의사결정에 도움을 준다\n",
    "    - 의사결정 데이터 기반의 근거\n",
    "    - 패턴 발견, 예측(머신 러닝)\n",
    "\n",
    "- DA Flow(흐름)\n",
    "    1. 문제 정의\n",
    "    1. 데이터 수집\n",
    "    1. 데이터 정제 (결측치, 이상치 처리)\n",
    "    1. 탐색 - 시각화 - 통계 분석 및 해석 (평균, 분포, 상관관계, 막대그래프, 히스토그램) (수학 -> 가설 검정, 회귀분석)\n",
    "    1. 결론 도출\n",
    "\n",
    "- 시트 / DB / Python\n",
    "    - 시트: 편리함\n",
    "    - DB: 대용량 데이터(억 단위) (CRUD)\n",
    "    - Python: 시각화, 분석, 머신 러닝\n",
    "\n",
    "- 라이브러리\n",
    "    - `Numpy`: 신속함(배열 연산)\n",
    "    - `Pandas`: 표(DataFrame) -> `Numpy` 기반으로 만들어짐\n",
    "    - `Matplotlib`: 시각화 기본(그래프)\n",
    "    - `Seaborn`: 시각화 심화\n",
    "    - `Scipy`: 고급 통계, 수학 연산\n",
    "    - `Scikit-Learn`: 머신 러닝"
   ]
  },
  {
   "cell_type": "code",
   "execution_count": 1,
   "id": "2cba6dc7",
   "metadata": {},
   "outputs": [
    {
     "name": "stdout",
     "output_type": "stream",
     "text": [
      "[2, 4, 6, 8, 10]\n"
     ]
    }
   ],
   "source": [
    "python_list = [1, 2, 3, 4, 5]\n",
    "\n",
    "result = [x * 2 for x in python_list]\n",
    "print(result)"
   ]
  },
  {
   "cell_type": "code",
   "execution_count": 3,
   "id": "2657acf3",
   "metadata": {},
   "outputs": [
    {
     "name": "stdout",
     "output_type": "stream",
     "text": [
      "[ 2  4  6  8 10]\n"
     ]
    }
   ],
   "source": [
    "import numpy as np\n",
    "\n",
    "array = np.array([1, 2, 3, 4, 5])\n",
    "result = array * 2\n",
    "print(result)"
   ]
  },
  {
   "cell_type": "code",
   "execution_count": 5,
   "id": "c4054c7a",
   "metadata": {},
   "outputs": [
    {
     "name": "stdout",
     "output_type": "stream",
     "text": [
      "[1 2 3 4 5] <class 'numpy.ndarray'>\n",
      "차원 1\n",
      "형태 (5,)\n",
      "크기 5\n"
     ]
    }
   ],
   "source": [
    "# array의 특징: 모든 데이터의 타입이 똑같아야 함\n",
    "\n",
    "arr = np.array([1, 2, 3, 4, 5])\n",
    "print(arr, type(arr))\n",
    "print('차원', arr.ndim)\n",
    "print('형태', arr.shape)\n",
    "print('크기', arr.size)"
   ]
  },
  {
   "cell_type": "code",
   "execution_count": 6,
   "id": "464c3da8",
   "metadata": {},
   "outputs": [
    {
     "data": {
      "text/plain": [
       "array([1, 2, 3, 4, 5])"
      ]
     },
     "execution_count": 6,
     "metadata": {},
     "output_type": "execute_result"
    }
   ],
   "source": [
    "arr1d = np.array([1, 2, 3, 4, 5])\n",
    "arr1d"
   ]
  },
  {
   "cell_type": "code",
   "execution_count": 13,
   "id": "f0199a7b",
   "metadata": {},
   "outputs": [
    {
     "name": "stdout",
     "output_type": "stream",
     "text": [
      "2\n",
      "(2, 3)\n",
      "6\n",
      "int64\n"
     ]
    }
   ],
   "source": [
    "l2d = [\n",
    "    [1, 2, 3],\n",
    "    [4, 5, 6],\n",
    "]\n",
    "\n",
    "arr2d = np.array(l2d)\n",
    "\n",
    "print(arr2d.ndim)\n",
    "print(arr2d.shape)\n",
    "print(arr2d.size)\n",
    "print(arr2d.dtype)"
   ]
  },
  {
   "cell_type": "code",
   "execution_count": 11,
   "id": "7335b670",
   "metadata": {},
   "outputs": [
    {
     "data": {
      "text/plain": [
       "array([1., 2., 3.])"
      ]
     },
     "execution_count": 11,
     "metadata": {},
     "output_type": "execute_result"
    }
   ],
   "source": [
    "# 실수형 array\n",
    "np.array([1, 2, 3], dtype = float)"
   ]
  },
  {
   "cell_type": "code",
   "execution_count": 17,
   "id": "96a19cb7",
   "metadata": {},
   "outputs": [
    {
     "name": "stdout",
     "output_type": "stream",
     "text": [
      "[0. 0. 0. 0. 0.] [[0. 0. 0.]\n",
      " [0. 0. 0.]]\n",
      "[1. 1. 1. 1. 1.] [[1. 1. 1.]\n",
      " [1. 1. 1.]]\n",
      "[7 7 7 7 7]\n",
      "[[7 7 7]\n",
      " [7 7 7]]\n",
      "[1. 2. 3.]\n"
     ]
    }
   ],
   "source": [
    "# 실수 0\n",
    "\n",
    "z1d = np.zeros(5)\n",
    "z2d = np.zeros((2, 3))\n",
    "\n",
    "print(z1d, z2d)\n",
    "\n",
    "\n",
    "# 1로 채움\n",
    "\n",
    "o1d = np.ones(5)\n",
    "o2d = np.ones((2, 3))\n",
    "\n",
    "print(o1d, o2d)\n",
    "\n",
    "\n",
    "# n을 채움 - 5칸 , 7로 채움\n",
    "\n",
    "n1d = np.full(5, 7)\n",
    "n2d = np.full((2, 3), 7)\n",
    "\n",
    "print(n1d)\n",
    "print(n2d)\n",
    "\n",
    "\n",
    "# 빈칸이지만 먼저 만듦\n",
    "\n",
    "empty = np.empty(3)\n",
    "print(empty)"
   ]
  },
  {
   "cell_type": "code",
   "execution_count": null,
   "id": "75ffb15f",
   "metadata": {},
   "outputs": [
    {
     "name": "stdout",
     "output_type": "stream",
     "text": [
      "[0 2 4 6 8]\n",
      "[0.   0.25 0.5  0.75 1.  ]\n",
      "[  1.           3.16227766  10.          31.6227766  100.        ]\n"
     ]
    }
   ],
   "source": [
    "# 시퀀스 (이어지는 데이터)\n",
    "# range\n",
    "\n",
    "range_arr = np.arange(0, 10, 2)\n",
    "print(range_arr)\n",
    "# (일반적인 range와 타입이 다름)\n",
    "\n",
    "# 등간격 실수 배열\n",
    "lin_space = np.linspace(0, 1, 5)\n",
    "print(lin_space)\n",
    "\n",
    "# 로그 스케일\n",
    "log_space = np.logspace(0, 2, 5) # 10^0 ~ 10^2 5개 요소\n",
    "print(log_space)\n",
    "# ( 규모 차이가 많이 나는 데이터를 다룰 때 ex: 판매량 1 - > 10 -> 1000 )"
   ]
  },
  {
   "cell_type": "code",
   "execution_count": 41,
   "id": "d1cc582b",
   "metadata": {},
   "outputs": [
    {
     "name": "stdout",
     "output_type": "stream",
     "text": [
      "[[0.59865848 0.15601864 0.15599452]\n",
      " [0.05808361 0.86617615 0.60111501]\n",
      " [0.70807258 0.02058449 0.96990985]]\n",
      "[[-0.46947439  0.54256004 -0.46341769]\n",
      " [-0.46572975  0.24196227 -1.91328024]\n",
      " [-1.72491783 -0.56228753 -1.01283112]]\n",
      "[[2 6 3]\n",
      " [8 2 4]\n",
      " [2 6 4]]\n"
     ]
    },
    {
     "data": {
      "text/plain": [
       "array([0.37454012, 0.95071431, 0.73199394])"
      ]
     },
     "execution_count": 41,
     "metadata": {},
     "output_type": "execute_result"
    }
   ],
   "source": [
    "# 난수 배열\n",
    "\n",
    "# 균등 분포 난수 (0~1)를 균등 분포\n",
    "random = np.random.rand(3, 3)\n",
    "print(random)\n",
    "\n",
    "# 정규 분포 난수\n",
    "normal = np.random.randn(3, 3)\n",
    "print(normal)\n",
    "\n",
    "# 정수 난수 (0 ~ 9, 3 * 3)\n",
    "int_random = np.random.randint(0, 10, (3, 3))\n",
    "print(int_random)\n",
    "\n",
    "# 시드 설정(랜덤 재현 가능)\n",
    "\n",
    "np.random.seed(42) # 랜덤 상황 42 고정\n",
    "np.random.rand(3)"
   ]
  },
  {
   "cell_type": "code",
   "execution_count": null,
   "id": "41a664cf",
   "metadata": {},
   "outputs": [
    {
     "name": "stdout",
     "output_type": "stream",
     "text": [
      "int64\n",
      "float64\n",
      "float32\n",
      "[1.2 2.3 3.4] float64\n"
     ]
    }
   ],
   "source": [
    "# 배열의 데이터 타입\n",
    "# 데이터 타입 확인\n",
    "arr = np.array([1, 2, 3])\n",
    "print(arr.dtype)\n",
    "\n",
    "# 데이터 타입 지정 생성\n",
    "f_arr = np.array([1, 2, 3], dtype=np.float64)\n",
    "print(f_arr.dtype)\n",
    "\n",
    "# 데이터 타입 변경(int > float) \n",
    "converted = arr.astype(np.float32)\n",
    "print(converted.dtype)\n",
    "\n",
    "# 문자열 > 숫자\n",
    "str_arr = np.array(['1.2', '2.3', '3.4'])\n",
    "num_arr = str_arr.astype(float) # np.floatxx 라고 지정 안 하고 float 쓰면 -> float64\n",
    "print(num_arr, num_arr.dtype)"
   ]
  },
  {
   "cell_type": "code",
   "execution_count": null,
   "id": "ca649972",
   "metadata": {},
   "outputs": [
    {
     "name": "stdout",
     "output_type": "stream",
     "text": [
      "8\n",
      "4\n",
      "24\n",
      "12\n"
     ]
    }
   ],
   "source": [
    "# 메모리 사용량 \n",
    "print(arr.itemsize) # int64 = 8byte\n",
    "print(converted.itemsize) # float32 = 4byte\n",
    "\n",
    "# 총 메모리 사용량\n",
    "print(arr.nbytes) # 8byte * 3칸\n",
    "print(converted.nbytes)"
   ]
  },
  {
   "cell_type": "code",
   "execution_count": 53,
   "id": "1c00b9f7",
   "metadata": {},
   "outputs": [
    {
     "name": "stdout",
     "output_type": "stream",
     "text": [
      "[ 0  1  2  3  4  5  6  7  8  9 10 11]\n",
      "[[ 0  1  2  3]\n",
      " [ 4  5  6  7]\n",
      " [ 8  9 10 11]]\n",
      "[[[ 0  1  2]\n",
      "  [ 3  4  5]]\n",
      "\n",
      " [[ 6  7  8]\n",
      "  [ 9 10 11]]]\n",
      "[[ 0  1  2  3]\n",
      " [ 4  5  6  7]\n",
      " [ 8  9 10 11]]\n",
      "[[ 0  1  2  3  4  5]\n",
      " [ 6  7  8  9 10 11]]\n"
     ]
    }
   ],
   "source": [
    "# 배열 재구성\n",
    "arr  = np.arange(12)\n",
    "reshaped = arr.reshape(3, 4) # 3 row * 4 col\n",
    "print(arr)\n",
    "print(reshaped)\n",
    "\n",
    "reshaped3d = arr.reshape(2, 2, 3) # 2페이지 2 row * 3 col\n",
    "print(reshaped3d)\n",
    "\n",
    "# 자동 계산\n",
    "auto1 = arr.reshape(3, -1) # 3 row, free col \n",
    "auto2 = arr.reshape(-1, 6) # free row, 6 col\n",
    "\n",
    "print(auto1)\n",
    "print(auto2)"
   ]
  },
  {
   "cell_type": "code",
   "execution_count": 67,
   "id": "109a48a4",
   "metadata": {},
   "outputs": [
    {
     "name": "stdout",
     "output_type": "stream",
     "text": [
      "[ 0  1  2  3  4  5  6  7  8  9 10 11]\n",
      "[[ 0  1  2  3]\n",
      " [ 4  5  6  7]\n",
      " [ 8  9 10 11]]\n",
      "[[ 0  1  2  3]\n",
      " [ 4  5  6  7]\n",
      " [ 8  9 10 11]]\n"
     ]
    }
   ],
   "source": [
    "# reshape: 원본을 그대로 두고 새로운 배열을 만듦\n",
    "# resize: 원본을 변경함\n",
    "\n",
    "arr = np.arange(12)\n",
    "reshaped = arr.reshape(3, 4) # 새로운 배열 리턴\n",
    "\n",
    "print(arr)\n",
    "print(reshaped)\n",
    "\n",
    "\n",
    "arr.resize(3, 4) # arr이 변경됨\n",
    "print(arr)"
   ]
  },
  {
   "cell_type": "code",
   "execution_count": null,
   "id": "04620ec8",
   "metadata": {},
   "outputs": [
    {
     "name": "stdout",
     "output_type": "stream",
     "text": [
      "[[1 2 3]\n",
      " [4 5 6]]\n",
      "[1 2 3 4 5 6] [1 2 3 4 5 6]\n"
     ]
    }
   ],
   "source": [
    "# N차원 -> 1차원\n",
    "arr = np.array([[1, 2, 3], [4, 5, 6]])\n",
    "\n",
    "r = arr.ravel()  # 뷰(원본 연결)\n",
    "f = arr.flatten() # 복사본\n",
    "\n",
    "print(arr)\n",
    "print(r, f)"
   ]
  },
  {
   "cell_type": "code",
   "execution_count": 140,
   "id": "d28017fc",
   "metadata": {},
   "outputs": [
    {
     "name": "stdout",
     "output_type": "stream",
     "text": [
      "[[1 2 3]\n",
      " [4 5 6]]\n"
     ]
    },
    {
     "data": {
      "text/plain": [
       "(array([[1, 4],\n",
       "        [2, 5],\n",
       "        [3, 6]]),\n",
       " array([[1, 4],\n",
       "        [2, 5],\n",
       "        [3, 6]]))"
      ]
     },
     "execution_count": 140,
     "metadata": {},
     "output_type": "execute_result"
    }
   ],
   "source": [
    "# 전치 -> 행과 열을 교환\n",
    "arr_2d = np.array([[1, 2, 3], [4, 5, 6]])\n",
    "print(arr_2d)\n",
    "\n",
    "arr_2d.transpose(), arr_2d.T"
   ]
  },
  {
   "cell_type": "code",
   "execution_count": 59,
   "id": "287ffdab",
   "metadata": {},
   "outputs": [
    {
     "name": "stdout",
     "output_type": "stream",
     "text": [
      "[ 1  2  3  4  5  6  7  8  9 10 11 12 13 14 15]\n",
      "[1 3 5 7 9]\n",
      "[0.  0.6 1.2 1.8 2.4 3. ]\n"
     ]
    }
   ],
   "source": [
    "# 1 ~ 15 정수 배열 ( arange vs array(range))\n",
    "print(np.arange(1, 16)), np.array(range(1, 16))\n",
    "\n",
    "# 0 ~ 9까지 홀수\n",
    "print(np.arange(1, 10, 2))\n",
    "\n",
    "# 0 ~ 3까지 균등 6등분 배열\n",
    "print(np.linspace(0, 3, 6))"
   ]
  },
  {
   "cell_type": "code",
   "execution_count": null,
   "id": "c49ee750",
   "metadata": {},
   "outputs": [
    {
     "name": "stdout",
     "output_type": "stream",
     "text": [
      "[[1. 0. 0. 0.]\n",
      " [0. 1. 0. 0.]\n",
      " [0. 0. 1. 0.]\n",
      " [0. 0. 0. 1.]]\n",
      "[[1 1 1 1]\n",
      " [1 1 1 1]\n",
      " [1 1 1 1]]\n"
     ]
    }
   ],
   "source": [
    "# 4 * 4 단위 행렬(identity matrix) = e 대각선 1, 나머지 0\n",
    "print(np.eye(4))\n",
    "\n",
    "# 3 * 4 사이즈 1로만 가득찬 int 배열\n",
    "print(np.ones((3, 4), dtype=int))\n",
    "\n",
    "# 2 * 3 * 4 사이즈 (3 * 4가 2페이지) 0 ~ 1 난수배열\n",
    "np.random.rand((2, 3, 4))   # 인자로 차원 지정 -> 오래된 버전에서 사용\n",
    "np.random.random((2, 3, 4))   # 튜플로 차원 지정 -> 새로운 버전에서 사용"
   ]
  },
  {
   "cell_type": "markdown",
   "id": "4d198554",
   "metadata": {},
   "source": [
    "# 배열의 인덱싱 / 슬라이싱"
   ]
  },
  {
   "cell_type": "code",
   "execution_count": null,
   "id": "aa771897",
   "metadata": {},
   "outputs": [
    {
     "name": "stdout",
     "output_type": "stream",
     "text": [
      "10 30 50\n",
      "[100  20  30  40  50]\n"
     ]
    }
   ],
   "source": [
    "arr = np.array([10, 20, 30, 40, 50])\n",
    "\n",
    "print(arr[0], arr[2], arr[-1])\n",
    "\n",
    "# 변경\n",
    "arr[0] = 100\n",
    "print(arr)\n",
    "\n"
   ]
  },
  {
   "cell_type": "code",
   "execution_count": null,
   "id": "11c177f3",
   "metadata": {},
   "outputs": [
    {
     "name": "stdout",
     "output_type": "stream",
     "text": [
      "[[1 2 3]\n",
      " [4 5 6]\n",
      " [7 8 9]]\n"
     ]
    },
    {
     "data": {
      "text/plain": [
       "array([[100,   2,   3],\n",
       "       [  4,   5,   6],\n",
       "       [  7,   8,   9]])"
      ]
     },
     "execution_count": 76,
     "metadata": {},
     "output_type": "execute_result"
    }
   ],
   "source": [
    "arr_2d = np.array(range(1, 10)).reshape(3, 3)\n",
    "\n",
    "print(arr_2d)\n",
    "\n",
    "# Numpy에서만 지원\n",
    "arr_2d[0, 0] # arr_2d[0][0] -> r 0, c 0\n",
    "arr_2d[1, 1]\n",
    "\n",
    "arr_2d[1] # 행 접근\n",
    "\n",
    "# 변경\n",
    "arr_2d[0, 0] = 100\n",
    "arr_2d"
   ]
  },
  {
   "cell_type": "code",
   "execution_count": 77,
   "id": "62e6f45b",
   "metadata": {},
   "outputs": [
    {
     "name": "stdout",
     "output_type": "stream",
     "text": [
      "[2 3 4] [0 1 2 3 4] [5 6 7 8 9]\n",
      "[1 3 5 7] [0 2 4 6 8]\n",
      "[9 8 7 6 5 4 3 2 1 0] [7 6 5 4 3]\n",
      "[  0   1   2 100 100 100   6   7   8   9]\n"
     ]
    }
   ],
   "source": [
    "# 슬라이싱\n",
    "\n",
    "arr = np.arange(10)\n",
    "print(\n",
    "    arr[2:5],\n",
    "    arr[:5],\n",
    "    arr[5:]\n",
    ")\n",
    "\n",
    "print(\n",
    "    arr[1:8:2], \n",
    "    arr[::2]\n",
    ")\n",
    "\n",
    "print(\n",
    "    arr[::-1], \n",
    "    arr[7:2:-1]\n",
    ")\n",
    "\n",
    "# 슬라이싱으로 일괄 변경, python에서는 불가\n",
    "arr[3:6] = 100\n",
    "print(arr)"
   ]
  },
  {
   "cell_type": "code",
   "execution_count": null,
   "id": "43ae575a",
   "metadata": {},
   "outputs": [
    {
     "name": "stdout",
     "output_type": "stream",
     "text": [
      "[[ 1  2  3  4]\n",
      " [ 5  6  7  8]\n",
      " [ 9 10 11 12]]\n",
      "[[1 2 3 4]\n",
      " [5 6 7 8]]\n",
      "[[ 2  3]\n",
      " [ 6  7]\n",
      " [10 11]]\n",
      "[[ 5  6]\n",
      " [ 9 10]]\n",
      "[[ 1  3]\n",
      " [ 9 11]]\n"
     ]
    }
   ],
   "source": [
    "# 다차원 배열 슬라이싱\n",
    "\n",
    "arr_2d = np.arange(1, 13).reshape(3, -1)\n",
    "print(arr_2d)\n",
    "\n",
    "# row(행) 슬라이싱 -> 0, 1 idx 행\n",
    "print(arr_2d[0:2])\n",
    "\n",
    "# col(열) 슬라이싱 -> 모든 행의 idx 1, 2열\n",
    "print(arr_2d[:, 1:3])\n",
    "\n",
    "# row / col 동시 슬라이싱 -> 1, 2 행 / 0, 1 열\n",
    "print(arr_2d[1:3, 0:2])\n",
    "\n",
    "# 간격지정 -> 행 / 열 모두 2간격\n",
    "print(arr_2d[::2, ::2])"
   ]
  },
  {
   "cell_type": "code",
   "execution_count": 83,
   "id": "926cdfb1",
   "metadata": {},
   "outputs": [
    {
     "name": "stdout",
     "output_type": "stream",
     "text": [
      "[[ 0  0  3  4]\n",
      " [ 0  0  7  8]\n",
      " [ 9 10 11 12]]\n",
      "[[ 0  0  3  4]\n",
      " [ 0  0  7  8]\n",
      " [ 9 10 11 12]]\n"
     ]
    },
    {
     "data": {
      "text/plain": [
       "array([[  0,   0,   3, 100],\n",
       "       [  0,   0,   7, 200],\n",
       "       [  9,  10,  11, 300]])"
      ]
     },
     "execution_count": 83,
     "metadata": {},
     "output_type": "execute_result"
    }
   ],
   "source": [
    "# 다차원 배열 슬라이싱으로 변경\n",
    "\n",
    "print(arr_2d)\n",
    "\n",
    "# 부분배열 일괄변경\n",
    "\n",
    "arr_2d[0:2, 0:2] = 0\n",
    "print(arr_2d)\n",
    "\n",
    "# 열 교체(모든 행, idx 3열) -> 벡터 -> 교체 -> 원본 matrix의 열이 바뀜\n",
    "arr_2d[:, 3] = [100, 200, 300]\n",
    "arr_2d"
   ]
  },
  {
   "cell_type": "code",
   "execution_count": 88,
   "id": "3da93320",
   "metadata": {},
   "outputs": [
    {
     "name": "stdout",
     "output_type": "stream",
     "text": [
      "[False False False  True  True] [1 2 3 4 5]\n",
      "[4 5]\n",
      "[4 5]\n",
      "[3 4]\n",
      "[1 4 5]\n"
     ]
    }
   ],
   "source": [
    "# boolean 인덱싱\n",
    "# 조건에 따라 배열 요소 선택\n",
    "\n",
    "arr = np.arange(1, 6)\n",
    "\n",
    "# 마스킹 -> T/F로 바꿈\n",
    "\n",
    "mask  = arr > 3\n",
    "print(mask, arr)\n",
    "\n",
    "# 마스킹 배렬로 필터링\n",
    "print(arr[mask])\n",
    "\n",
    "# 직접 조건\n",
    "print(arr[arr > 3])\n",
    "\n",
    "# 다중 조건\n",
    "print(arr[ (arr > 2) & (arr < 5)]) # and\n",
    "print(arr[ (arr == 1) | (arr > 3)]) # or"
   ]
  },
  {
   "cell_type": "code",
   "execution_count": null,
   "id": "5f345ac0",
   "metadata": {},
   "outputs": [
    {
     "name": "stdout",
     "output_type": "stream",
     "text": [
      "[6 7 8 9]\n",
      "[1 2 3 4 5]\n",
      "[[1 2 3]\n",
      " [4 5 6]\n",
      " [7 8 9]]\n",
      "[[1 2 3]\n",
      " [7 8 9]]\n"
     ]
    }
   ],
   "source": [
    "# 2차원 배결 불리언 인덱싱\n",
    "\n",
    "arr_2d = np.arange(1, 10).reshape(3, 3)\n",
    "\n",
    "mask = arr_2d > 5\n",
    "\n",
    "# 원본 matrix 형태 없음. True로 필터된 값만 Vector로 나옴\n",
    "print(arr_2d[mask])\n",
    "print(arr_2d[arr_2d < 6])\n",
    "\n",
    "# 조건에 맞는 행만 선택\n",
    "row_mask = np.array([True, False, True])\n",
    "print(arr_2d)\n",
    "print(arr_2d[row_mask]) # row T, F, T -> 0, 2 row만 뽑아냄"
   ]
  },
  {
   "cell_type": "code",
   "execution_count": null,
   "id": "5b0f6f99",
   "metadata": {},
   "outputs": [
    {
     "name": "stdout",
     "output_type": "stream",
     "text": [
      "[10 20 30 40 50]\n",
      "[10 10 20 20 30]\n"
     ]
    }
   ],
   "source": [
    "# Fancy 인덱싱\n",
    "arr = np.arange(10, 60, 10)\n",
    "print(arr)\n",
    "\n",
    "# arr[1, 2] -> arr[1][2]\n",
    "arr[[1, 2]] # arr[1], arr[2]\n",
    "arr[[0, 2, 3]] # -> arr[0], arr[2], arr[3]\n",
    "\n",
    "print(arr[[0, 0, 1, 1, 2]])\n",
    "\n"
   ]
  },
  {
   "cell_type": "code",
   "execution_count": 96,
   "id": "f5419e5b",
   "metadata": {},
   "outputs": [
    {
     "name": "stdout",
     "output_type": "stream",
     "text": [
      "[[1 2 3]\n",
      " [4 5 6]\n",
      " [7 8 9]]\n",
      "[1 2 3]\n",
      "[[1 2 3]\n",
      " [7 8 9]]\n",
      "[1 6 8]\n",
      "[[3 1 2]\n",
      " [6 4 5]\n",
      " [9 7 8]]\n"
     ]
    }
   ],
   "source": [
    "arr_2d = np.arange(1, 10).reshape(3, 3)\n",
    "print(arr_2d)\n",
    "\n",
    "print(arr_2d[0]) # row 0\n",
    "\n",
    "# 특정 행만 선택\n",
    "print(arr_2d[[0, 2]])\n",
    "\n",
    "# 특정 핼과 열 동시에 선택\n",
    "print(\n",
    "    arr_2d[\n",
    "        [0, 1, 2], \n",
    "        [0, 2, 1]\n",
    "    ]\n",
    ")\n",
    "\n",
    "# 행렬의 열을 순서 바꾸기\n",
    "\n",
    "print(\n",
    "    arr_2d[\n",
    "        :, # 모든 행\n",
    "        [2, 0, 1] # 열 idx를 바꿔라\n",
    "    ]\n",
    ")"
   ]
  },
  {
   "cell_type": "code",
   "execution_count": 120,
   "id": "61447e15",
   "metadata": {},
   "outputs": [
    {
     "name": "stdout",
     "output_type": "stream",
     "text": [
      "원본 [10 11 12 13 14 15 16 17 18 19 20]\n",
      "10 12 20\n",
      "[12 13 14 15]\n",
      "[10 12 14]\n",
      "[20 19 18 17 16 15 14 13 12 11 10]\n"
     ]
    }
   ],
   "source": [
    "# 10부터 20까지의 정수 배열 생성\n",
    "arr = np.arange(10, 21)\n",
    "print('원본', arr)\n",
    "\n",
    "# 문제1: 배열의 첫 번째, 세 번째, 마지막 요소 출력\n",
    "\n",
    "print(arr[0], arr[2], arr[-1])\n",
    "\n",
    "# 문제2: 인덱스 2부터 5까지 요소 출력\n",
    "\n",
    "print(arr[2:6])\n",
    "\n",
    "# 문제3: 처음부터 5번째 요소까지 모든 짝수 인덱스 요소 출력\n",
    "print(arr[:6:2])\n",
    "\n",
    "# 문제4: 배열의 요소를 역순으로 출력\n",
    "print(arr[::-1])"
   ]
  },
  {
   "cell_type": "code",
   "execution_count": 129,
   "id": "7f5def3b",
   "metadata": {},
   "outputs": [
    {
     "name": "stdout",
     "output_type": "stream",
     "text": [
      "원본 [[ 0  1  2  3]\n",
      " [ 4  5  6  7]\n",
      " [ 8  9 10 11]]\n",
      "6\n",
      "[4 5 6 7]\n",
      "[ 3  7 11]\n",
      "[[ 1  3]\n",
      " [ 9 11]]\n"
     ]
    }
   ],
   "source": [
    "# 3 * 4 matrix\n",
    "matrix = np.arange(12).reshape(3, 4)\n",
    "print('원본', matrix)\n",
    "\n",
    "# 문제1: (1,2) 위치의 요소 출력\n",
    "\n",
    "print(matrix[1, 2])\n",
    "\n",
    "# 문제2: 두 번째 행 전체 출력\n",
    "\n",
    "print(matrix[1])\n",
    "\n",
    "# 문제3: 마지막 열 전체 출력\n",
    "\n",
    "print(matrix[:, -1])\n",
    "\n",
    "# 문제4: 첫 번째와 세 번째 행의 두 번째와 네 번째 열 요소만 추출\n",
    "print(matrix[[0, 2], :][:,[1, 3]])"
   ]
  },
  {
   "cell_type": "code",
   "execution_count": 138,
   "id": "f826649c",
   "metadata": {},
   "outputs": [
    {
     "name": "stdout",
     "output_type": "stream",
     "text": [
      "원본 [ 1  2  3  4  5  6  7  8  9 10 11 12 13 14 15 16 17 18 19 20]\n",
      "[ 5 10 15 20]\n",
      "[ 4  5  6  7  8  9 10 11 12 13 14]\n",
      "[ 1  3  5  7  9 11 13 14 15 17 19]\n"
     ]
    }
   ],
   "source": [
    "arr = np.arange(1, 21)\n",
    "print('원본', arr)\n",
    "\n",
    "# 문제1: 5의 배수만 선택하여 출력\n",
    "print(arr[arr % 5 == 0])\n",
    "# 문제2: 3보다 크고 15보다 작은 요소 선택\n",
    "print(arr[ (arr > 3) & (arr < 15)])\n",
    "# 문제3: 7의 배수이거나 홀수인 요소 선택\n",
    "print(arr[ (arr % 7 == 0) | (arr % 2 == 1)])"
   ]
  },
  {
   "cell_type": "code",
   "execution_count": 132,
   "id": "f2f8967e",
   "metadata": {},
   "outputs": [
    {
     "name": "stdout",
     "output_type": "stream",
     "text": [
      "원본 [[ 1  2  3  4]\n",
      " [ 5  6  7  8]\n",
      " [ 9 10 11 12]\n",
      " [13 14 15 16]\n",
      " [17 18 19 20]]\n",
      "[[  1   2   3   4]\n",
      " [  5   6   7   8]\n",
      " [  9  10 100 100]\n",
      " [100 100 100 100]\n",
      " [100 100 100 100]]\n"
     ]
    }
   ],
   "source": [
    "matrix = np.arange(1, 21).reshape(5, 4)\n",
    "print('원본', matrix)\n",
    "\n",
    "# 문제4: 10보다 큰 요소만 100으로 변경\n",
    "\n",
    "matrix[matrix > 10] = 100\n",
    "print(matrix)"
   ]
  }
 ],
 "metadata": {
  "kernelspec": {
   "display_name": "Python 3",
   "language": "python",
   "name": "python3"
  },
  "language_info": {
   "codemirror_mode": {
    "name": "ipython",
    "version": 3
   },
   "file_extension": ".py",
   "mimetype": "text/x-python",
   "name": "python",
   "nbconvert_exporter": "python",
   "pygments_lexer": "ipython3",
   "version": "3.13.2"
  }
 },
 "nbformat": 4,
 "nbformat_minor": 5
}
